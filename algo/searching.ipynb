{
 "cells": [
  {
   "cell_type": "code",
   "execution_count": 9,
   "outputs": [],
   "source": [
    "# global import\n",
    "from math import sqrt\n",
    "from random import randint"
   ],
   "metadata": {
    "collapsed": false,
    "pycharm": {
     "name": "#%%\n"
    }
   }
  },
  {
   "cell_type": "markdown",
   "source": [
    "## Linear Search\n",
    "- Given an arr[] of N elements, task is to write a function to search a given element x in arr[]\n",
    "- Example :\n",
    "    arr[]={10,11,24,27,30,32,36},       x = 24, N=7\n",
    "    - output : 2;\n",
    "        - 24 is present in 2nd index"
   ],
   "metadata": {
    "collapsed": false,
    "pycharm": {
     "name": "#%% md\n"
    }
   }
  },
  {
   "cell_type": "markdown",
   "source": [
    "### Pseudocode:\n",
    "- Start with leftmost element and compare each with x\n",
    "- If x matches, return the index,\n",
    "- Else if x doesn't matches with any elements in array, retrun -1\n",
    "![image](https://media.geeksforgeeks.org/wp-content/cdn-uploads/Linear-Search.png)"
   ],
   "metadata": {
    "collapsed": false,
    "pycharm": {
     "name": "#%% md\n"
    }
   }
  },
  {
   "cell_type": "code",
   "execution_count": 10,
   "outputs": [
    {
     "name": "stdout",
     "output_type": "stream",
     "text": [
      "Array  [1, 2, 4, 6, 9, 9, 10, 14, 16, 18, 18, 20, 20, 20, 20] Searching  4  length of arr  15\n",
      "4 is at 2\n"
     ]
    }
   ],
   "source": [
    "## Linear Search\n",
    "def lin_search(arr, n, x):\n",
    "    for i, e in enumerate(arr):\n",
    "        if e == x:\n",
    "            return i\n",
    "    else:\n",
    "        return -1\n",
    "\n",
    "\n",
    "## Driver code\n",
    "arr = [randint(1, 20) for _ in range(15)]\n",
    "n = len(arr)\n",
    "x = randint(1, 20)\n",
    "\n",
    "sorted_arr = sorted(arr)\n",
    "print(\"Array \", sorted_arr, \"Searching \", x, \" length of arr \", n)\n",
    "pos = lin_search(sorted_arr, n, x)\n",
    "msg = f'{x} not in arr ' if pos == -1 else f'{x} is at {pos}'\n",
    "print(msg)"
   ],
   "metadata": {
    "collapsed": false,
    "pycharm": {
     "name": "#%%\n"
    }
   }
  },
  {
   "cell_type": "markdown",
   "source": [
    "- Time Complexity - O(N)\n",
    "- Space Complexity - O(1)"
   ],
   "metadata": {
    "collapsed": false,
    "pycharm": {
     "name": "#%% md\n"
    }
   }
  },
  {
   "cell_type": "markdown",
   "source": [
    "### Recursive Approach\n",
    "- Search with element from last index,\n",
    "- if element at n match, return n as position\n",
    "- if n is -1 , return -1, element not in array\n",
    "-----------\n",
    "- Time Complexity = O(n)\n",
    "- Space Complexity = O(1)"
   ],
   "metadata": {
    "collapsed": false,
    "pycharm": {
     "name": "#%% md\n"
    }
   }
  },
  {
   "cell_type": "code",
   "execution_count": 11,
   "outputs": [
    {
     "name": "stdout",
     "output_type": "stream",
     "text": [
      "Array  [1, 5, 5, 6, 6, 7, 8, 9, 10, 12, 13, 14, 14, 15, 15] Searching  12  length of arr  15\n",
      "12 is at 9\n"
     ]
    }
   ],
   "source": [
    "### Recursive linear search\n",
    "def recur_lin_search(arr, n, x):\n",
    "    if n == -1:  # Base condition\n",
    "        return -1  # not found in entire array\n",
    "\n",
    "    if arr[n] == x:\n",
    "        return n  # element found at position n\n",
    "\n",
    "    return recur_lin_search(arr, n - 1, x)\n",
    "\n",
    "\n",
    "# Driver code\n",
    "arr = [randint(1, 20) for _ in range(15)]\n",
    "n = len(arr)\n",
    "x = randint(1, 20)\n",
    "\n",
    "sorted_arr = sorted(arr)\n",
    "print(\"Array \", sorted_arr, \"Searching \", x, \" length of arr \", n)\n",
    "pos = recur_lin_search(sorted_arr, n - 1, x)\n",
    "msg = f'{x} not in arr ' if pos == -1 else f'{x} is at {pos}'\n",
    "print(msg)"
   ],
   "metadata": {
    "collapsed": false,
    "pycharm": {
     "name": "#%%\n"
    }
   }
  },
  {
   "cell_type": "markdown",
   "source": [
    "## Binary Search\n",
    "- Given a sorted array arr[] of n elements, write a function to search a given element x in arr[] and return the index of x in the array.\n",
    "- Binary searching algorithm performs searching in a sorted array by **repeatedly dividing the search interval in the half.**"
   ],
   "metadata": {
    "collapsed": false,
    "pycharm": {
     "name": "#%% md\n"
    }
   }
  },
  {
   "cell_type": "markdown",
   "source": [
    "### Pseudocode:\n",
    "- Begin with the mid element in array, until array is not divisible into half.\n",
    "- If the value of search key is equals to the item pointed by mid, return an index of the search key.\n",
    "- Else if the value of search key is less than value of item pointed by mid, narrow down the interval to lower half.\n",
    "- Else, narrow down the interval to right half.\n",
    "- Repeatedly, search until search interval array is of unit size.\n",
    "---\n",
    "![image](https://media.geeksforgeeks.org/wp-content/uploads/20220309171621/BinarySearch.png)"
   ],
   "metadata": {
    "collapsed": false,
    "pycharm": {
     "name": "#%% md\n"
    }
   }
  },
  {
   "cell_type": "markdown",
   "source": [
    "### Implementation Approach:\n",
    "- Iterative Approach\n",
    "- Recursive Approach"
   ],
   "metadata": {
    "collapsed": false,
    "pycharm": {
     "name": "#%% md\n"
    }
   }
  },
  {
   "cell_type": "markdown",
   "source": [
    "#### Iterative Approach\n",
    "<pre>\n",
    "bin_search(arr, l, r, x)\n",
    "    repeat till l = r\n",
    "        mid = (l+r)//2\n",
    "        if x == arr[mid]\n",
    "            return mid          # element found at position pointed by mid\n",
    "        else if(x < arr[mid])           # x is on the left half of arry\n",
    "             = mid - 1\n",
    "        else                            # x is on the right half of array\n",
    "            l = mid + 1\n",
    "    else                        # element not found in array\n",
    "        return -1\n",
    "</pre>"
   ],
   "metadata": {
    "collapsed": false,
    "pycharm": {
     "name": "#%% md\n"
    }
   }
  },
  {
   "cell_type": "markdown",
   "source": [
    "#### Recursive Approach\n",
    "<pre>\n",
    "recur_bin_search(arr, l, r, x):\n",
    "    if l >= r                   # element not in array\n",
    "        return -1\n",
    "    mid = (l+r)//2\n",
    "    if (arr[mid] == x)          # element found at position pointed by mid\n",
    "        return mid\n",
    "\n",
    "    if (x < arr[mid])                       # element at left half\n",
    "        return recur_bin_search(arr, l, mid-1, x)\n",
    "    else                                    # element at right half\n",
    "        return recur_bin_search(arr, mid+1, r, x)\n",
    "</pre>"
   ],
   "metadata": {
    "collapsed": false,
    "pycharm": {
     "name": "#%% md\n"
    }
   }
  },
  {
   "cell_type": "code",
   "execution_count": 12,
   "outputs": [
    {
     "name": "stdout",
     "output_type": "stream",
     "text": [
      "arr  [9, 9, 12, 6, 16, 14, 8, 3, 15, 3, 13, 13, 4, 7, 15, 17, 6, 14, 1, 4]  length  20\n",
      " Searching  5\n",
      "####### ITERATIVE ############\n",
      "5 not found\n",
      "####### RECURSIVE ############\n",
      "5 not found\n"
     ]
    }
   ],
   "source": [
    "## Binary Search\n",
    "def iter_bin_search(arr, l, r, x):\n",
    "    while l < r:\n",
    "        mid = (l + r) // 2\n",
    "        if (x == arr[mid]):  # element found at mid\n",
    "            return mid\n",
    "        elif(x<arr[mid]):           # element in left half\n",
    "            r = mid -1\n",
    "        else:                       # element in right half\n",
    "            l = mid + 1\n",
    "    else:\n",
    "        return -1  # element not in array\n",
    "\n",
    "\n",
    "def recur_bin_search(arr, l, r, x):\n",
    "    if l >= r:  # element not in array\n",
    "        return -1\n",
    "    # compute mid\n",
    "    mid = (l + r) // 2\n",
    "    if x == arr[mid]:  # element found at position pointed by mid\n",
    "        return mid\n",
    "    elif x < arr[mid]:  # element at left half\n",
    "        return recur_bin_search(arr, l, mid - 1, x)\n",
    "    else:  # element at right half\n",
    "        return recur_bin_search(arr, mid + 1, r, x)\n",
    "\n",
    "# Driver code\n",
    "arr = [randint(1,20) for _ in range(20)]\n",
    "x = randint(1,20)\n",
    "n = len(arr)\n",
    "sorted_arr = sorted(arr)\n",
    "\n",
    "# Iterative\n",
    "print('arr ', arr, \" length \", n)\n",
    "print(' Searching ', x)\n",
    "print(\"####### ITERATIVE ############\")\n",
    "pos = iter_bin_search(arr, 0, n, x)\n",
    "msg = f'{x} not found' if pos == -1 else f'{x} found at {pos}'\n",
    "print(msg)\n",
    "print(\"####### RECURSIVE ############\")\n",
    "pos = recur_bin_search(arr, 0, n, x)\n",
    "msg = f'{x} not found' if pos == -1 else f'{x} found at {pos}'\n",
    "print(msg)\n"
   ],
   "metadata": {
    "collapsed": false,
    "pycharm": {
     "name": "#%%\n"
    }
   }
  },
  {
   "cell_type": "markdown",
   "source": [
    "## Ternary Search\n",
    "- Same as Binary Search uses divide and conquer techique.\n",
    "- But instead of dividing the array into 2 halves, it divides the array into 3 halves.\n",
    "- Array is divided into 3 parts: left, middle and right, by calculating mid1 and mid2.\n",
    "- The only **difference** between Binary Search and Ternary Search is that, it reduces the time complexity a bit more,(as the serach interval is 1/3 of the original array).\n",
    "- Time Complexity = O(log<sub>3</sub>n) compared to Binary Search = O(log<sub>2</sub>n)\n",
    "-------\n",
    "### Formulae to calculate mid\n",
    "```\n",
    "mid1 = l + (r-l)/3\n",
    "mid2 = r - (r-l)/3\n",
    "```\n",
    "\n",
    "### Pseudocode:\n",
    "- Begin with the mid1 and mid2 in array, until array is not divisible into 3 halves.\n",
    "- If the search_key = arr[mid1] or arr[mid2], return the index of the search_key.\n",
    "- Else if the search_key < arr[mid1], narrow down the search to left half.\n",
    "- Else if the search_key > arr[mid2], narrow down the search to right half.\n",
    "- Else, narrow down the search to middle half,(b/w mid1 and mid2).\n",
    "\n",
    "### Implementation Approach:\n",
    "- Iterative Approach\n",
    "- Recursive Approach"
   ],
   "metadata": {
    "collapsed": false,
    "pycharm": {
     "name": "#%% md\n"
    }
   }
  },
  {
   "cell_type": "code",
   "execution_count": 13,
   "outputs": [
    {
     "name": "stdout",
     "output_type": "stream",
     "text": [
      "arr  [1, 1, 2, 4, 5, 7, 7, 8, 10, 10]  length  10\n",
      " Searching  10\n",
      "####### ITERATIVE ############\n",
      "10 found at 9\n"
     ]
    }
   ],
   "source": [
    "#### Iterative Approach\n",
    "def iter_ter_search(arr, l, r, k):\n",
    "    while r >= l:                  # base condition for divisibility\n",
    "        mid1 = l + (r-l)//3\n",
    "        mid2 = r - (r-l)//3\n",
    "\n",
    "        # if k matches mid element\n",
    "        if k == arr[mid1]:\n",
    "            return mid1\n",
    "        if k == arr[mid2]:\n",
    "            return mid2\n",
    "\n",
    "        # else if k < arr[mid1], search in left half\n",
    "        if k < arr[mid1]:\n",
    "            r = mid1-1\n",
    "        # else if k > arr[mid2], search in right half\n",
    "        elif k > arr[mid2]:\n",
    "            l = mid2+1\n",
    "        # else search in middle half\n",
    "        else:\n",
    "            l = mid1+1\n",
    "            r = mid2-1\n",
    "\n",
    "    # if array size is unit after searching and dividing\n",
    "    # key not found\n",
    "    return -1\n",
    "\n",
    "### Driver Code\n",
    "arr = [randint(1,10) for _ in range(10)]\n",
    "x = randint(1,10)\n",
    "n = len(arr)\n",
    "sorted_arr = sorted(arr)\n",
    "\n",
    "# Searching\n",
    "print('arr ', sorted_arr, \" length \", n)\n",
    "print(' Searching ', x)\n",
    "print(\"####### ITERATIVE ############\")\n",
    "pos = iter_ter_search(sorted_arr, 0, n-1, x)\n",
    "msg = f'{x} not found' if pos == -1 else f'{x} found at {pos}'\n",
    "print(msg)\n",
    "# print(\"####### RECURSIVE ############\")\n",
    "# pos = recur_bin_search(arr, 0, n, x)\n",
    "# msg = f'{x} not found' if pos == -1 else f'{x} found at {pos}'\n",
    "# print(msg)\n"
   ],
   "metadata": {
    "collapsed": false,
    "pycharm": {
     "name": "#%%\n"
    }
   }
  },
  {
   "cell_type": "markdown",
   "source": [
    "## Jump Search\n",
    "- Same as Binary Search uses **divide and conquer** algorithm.\n",
    "- Basic idea is to check fewer elements (than linear search) by jumping ahead by some fixed steps.\n",
    "- For example, suppose we have array, arr[] of size n, and a block to be skipped/jumped of size m. Then we search arr[0], arr[m],arr[2m],....arr[km] and so on.\n",
    "- Once we found a search interval (arr[km] < search_key <= arr[(k+1)m]), we perform linear search in that interval.\n",
    "### Example:\n",
    "- Array = [1,2,2,3,4,5,6,6,7,8,9,10]\n",
    "- n = 12\n",
    "- Search Key = 6\n",
    "- jump interval, m = 3\n",
    "\n",
    "- index, k=0 , arr[0] = 1 < search_key = 6 <= arr[(0+1)*3]=3 (False)\n",
    "- index, k=1, arr[3] = 3 < search_key = 6 <= arr[(1+1)*3]=arr[6]= 6 (True)       (perform linear search, interval = [3,6])"
   ],
   "metadata": {
    "collapsed": false,
    "pycharm": {
     "name": "#%% md\n"
    }
   }
  },
  {
   "cell_type": "markdown",
   "source": [
    "### Optimal block size to be skipped?\n",
    "- In a worst case we have to do `n/m` jumps, and if the last checked value is greater than the element to be searched then we need to perform `m-1` comparisons more for `linear search`.\n",
    "- Then, the total number of comparison for worst case would be `n/m + (m-1)`.\n",
    "- So, simplifying the above equation, equation would be minimum when `m=√n`.\n",
    "- So, the optimal block size to be skipped is `m=√n`."
   ],
   "metadata": {
    "collapsed": false,
    "pycharm": {
     "name": "#%% md\n"
    }
   }
  },
  {
   "cell_type": "code",
   "execution_count": 34,
   "outputs": [],
   "source": [
    "# Generic Class Search Runner\n",
    "from abc import ABCMeta, abstractmethod\n",
    "\n",
    "class BaseSearch(metaclass=ABCMeta):\n",
    "\n",
    "    def __init__(self,n):\n",
    "        \"\"\"\n",
    "        n=upper max of random sequence, and length of array\n",
    "        search_key=random number to be searched in range(0,n)\n",
    "        \"\"\"\n",
    "        _arr = [randint(0,n) for _ in range(n)]\n",
    "        self.n = n\n",
    "        self.arr = sorted(_arr)\n",
    "        self.search_key = randint(0,n)\n",
    "\n",
    "    @abstractmethod\n",
    "    def search(self):\n",
    "        \"\"\"\n",
    "        Abstract method to be implemented by child classes\n",
    "        \"\"\"\n",
    "        pass\n",
    "\n",
    "    def run(self):\n",
    "        \"\"\"\n",
    "        Run the search algorithm and print the results\n",
    "        \"\"\"\n",
    "        print(\"####### SEARCHING #######\")\n",
    "        print(\"Search Key: \", self.search_key)\n",
    "        print(\"Sorted Array: \", self.arr)\n",
    "        print(\"Length: \", self.n)\n",
    "        print(\"#########################\")\n",
    "        print(\"####### RESULTS #######\")\n",
    "        pos = self.search()\n",
    "        print(f\"Search key {self.search_key} ,{f'found at {pos}.' if pos !=-1 else 'not found'}\")\n"
   ],
   "metadata": {
    "collapsed": false,
    "pycharm": {
     "name": "#%%\n"
    }
   }
  },
  {
   "cell_type": "code",
   "execution_count": 139,
   "outputs": [
    {
     "name": "stdout",
     "output_type": "stream",
     "text": [
      "####### SEARCHING #######\n",
      "Search Key:  20\n",
      "Sorted Array:  [0, 2, 2, 3, 3, 5, 8, 8, 9, 10, 11, 11, 15, 15, 15, 15, 17, 17, 19, 20]\n",
      "Length:  20\n",
      "#########################\n",
      "####### RESULTS #######\n",
      "Search key 20 ,not found\n"
     ]
    }
   ],
   "source": [
    "class JumpSearch(BaseSearch):\n",
    "\n",
    "    def search(self):\n",
    "        \"\"\"\n",
    "        Jump Search Algorithm\n",
    "        \"\"\"\n",
    "        # find block size to be skipped\n",
    "        step = int(sqrt(self.n))\n",
    "\n",
    "        # finding block where element is present, if not present, return -1\n",
    "        prev =0\n",
    "        while(self.arr[int(min(step, n))-1] < self.search_key):\n",
    "            prev = step\n",
    "            step += int(sqrt(self.n))\n",
    "\n",
    "            # element not in array\n",
    "            if prev >= n:\n",
    "                return -1\n",
    "\n",
    "        # element may be within boundary step / n\n",
    "\n",
    "        # linear search from prev = 0 to min(step / n)\n",
    "        while prev < int(min(step, n)-1):\n",
    "            if self.arr[prev] == self.search_key:\n",
    "                return prev                 # element found\n",
    "            prev += 1\n",
    "        else:\n",
    "            # element not found in block\n",
    "            return -1\n",
    "\n",
    "        # while self.arr[int(prev)] < x:\n",
    "        #     prev += 1\n",
    "        #\n",
    "        #     # If we reached next block or end\n",
    "        #     # of array, element is not present.\n",
    "        #     if prev == min(step, n):\n",
    "        #         return -1\n",
    "        #\n",
    "        # # If element is found\n",
    "        # if self.arr[int(prev)] == x:\n",
    "        #     return prev\n",
    "        #\n",
    "        # return -1\n",
    "\n",
    "\n",
    "# Run JumSearch instance\n",
    "jump_search = JumpSearch(20)\n",
    "jump_search.run()\n"
   ],
   "metadata": {
    "collapsed": false,
    "pycharm": {
     "name": "#%% mdfsolution=Solution(10)\n"
    }
   }
  }
 ],
 "metadata": {
  "kernelspec": {
   "display_name": "Python 3",
   "language": "python",
   "name": "python3"
  },
  "language_info": {
   "codemirror_mode": {
    "name": "ipython",
    "version": 2
   },
   "file_extension": ".py",
   "mimetype": "text/x-python",
   "name": "python",
   "nbconvert_exporter": "python",
   "pygments_lexer": "ipython2",
   "version": "2.7.6"
  }
 },
 "nbformat": 4,
 "nbformat_minor": 0
}