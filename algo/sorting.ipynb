{
 "cells": [
  {
   "cell_type": "code",
   "execution_count": 32,
   "metadata": {
    "collapsed": true,
    "pycharm": {
     "name": "#%%\n"
    }
   },
   "outputs": [],
   "source": [
    "# Global Import\n",
    "from random import randint"
   ]
  },
  {
   "cell_type": "code",
   "execution_count": 33,
   "outputs": [],
   "source": [
    "# Base Sort Class\n",
    "from abc import ABCMeta, abstractmethod\n",
    "\n",
    "class BaseSort(metaclass=ABCMeta):\n",
    "\n",
    "    def __init__(self, n):\n",
    "        self.n = n\n",
    "        self.arr = [randint(0,n) for _ in range(0,n)]\n",
    "\n",
    "    @property\n",
    "    def arr(self):\n",
    "        return self._arr\n",
    "\n",
    "    @arr.setter\n",
    "    def arr(self, value):\n",
    "        self._arr = value\n",
    "\n",
    "    @abstractmethod\n",
    "    def sort(self):\n",
    "        pass\n",
    "\n",
    "    def run(self):\n",
    "        \"\"\"\n",
    "        Run the sort algorithm\n",
    "        \"\"\"\n",
    "        print(f\"###### Sorting Using {self.__class__.__name__} ##########\")\n",
    "        print(\"Length of array: \", self.n)\n",
    "        print(\"Before Sort, array is  \", self.arr)\n",
    "        self.sort()\n",
    "        print(\"After Sort  , array is \", self.arr)\n"
   ],
   "metadata": {
    "collapsed": false,
    "pycharm": {
     "name": "#%%\n"
    }
   }
  },
  {
   "cell_type": "code",
   "execution_count": 34,
   "outputs": [
    {
     "name": "stdout",
     "output_type": "stream",
     "text": [
      "###### Sorting Using SelectionSort ##########\n",
      "Length of array:  10\n",
      "Before Sort, array is   [6, 8, 5, 1, 6, 0, 1, 0, 2, 1]\n",
      "After Sort  , array is  [0, 0, 1, 1, 1, 2, 5, 6, 6, 8]\n"
     ]
    }
   ],
   "source": [
    "# Selection Sort Algorithm\n",
    "class SelectionSort(BaseSort):\n",
    "\n",
    "    def sort(self):\n",
    "        \"\"\"\n",
    "        Sorts array by repeatedly finding the minimum element(assuming ascending order) from unsorted part, and putting it at the beginning.\n",
    "        :return: Sorted array\n",
    "        \"\"\"\n",
    "        for i in range(0, self.n):\n",
    "            min = i       # min element array position\n",
    "            for j in range(i+1, self.n):\n",
    "                if self.arr[min] > self.arr[j]:\n",
    "                    min = j\n",
    "\n",
    "            if min != i:\n",
    "                # swap min and j\n",
    "                self.arr[min], self.arr[i] = self.arr[i], self.arr[min]\n",
    "\n",
    "# run selection sort\n",
    "selection_sort = SelectionSort(10)\n",
    "selection_sort.run()"
   ],
   "metadata": {
    "collapsed": false,
    "pycharm": {
     "name": "#%%\n"
    }
   }
  },
  {
   "cell_type": "code",
   "execution_count": 35,
   "outputs": [
    {
     "name": "stdout",
     "output_type": "stream",
     "text": [
      "###### Sorting Using BubbleSort ##########\n",
      "Length of array:  10\n",
      "Before Sort, array is   [9, 3, 0, 2, 7, 4, 0, 8, 3, 10]\n",
      "After Sort  , array is  [0, 0, 2, 3, 3, 4, 7, 8, 9, 10]\n"
     ]
    }
   ],
   "source": [
    "# Bubble Sort Algorithm\n",
    "class BubbleSort(BaseSort):\n",
    "\n",
    "    def sort(self):\n",
    "        \"\"\"\n",
    "        Sorts by repeatedly swapping the adjacent elements if they are in the wrong order.\n",
    "        \"\"\"\n",
    "        for i in range(0, self.n):\n",
    "            is_swapped = False                  # No, swap done, on entire check then, arr is already sorted\n",
    "            for j in range(i+1, self.n):\n",
    "                if self.arr[i] > self.arr[j]:\n",
    "                    # swap\n",
    "                    self.arr[i], self.arr[j] = self.arr[j], self.arr[i]\n",
    "                    is_swapped = True\n",
    "\n",
    "            # if no two element were swapped, then arr is sorted\n",
    "            if not is_swapped:\n",
    "                break\n",
    "\n",
    "# run bubble sort\n",
    "bubble_sort = BubbleSort(10)\n",
    "bubble_sort.run()"
   ],
   "metadata": {
    "collapsed": false,
    "pycharm": {
     "name": "#%%\n"
    }
   }
  },
  {
   "cell_type": "code",
   "execution_count": 36,
   "outputs": [
    {
     "name": "stdout",
     "output_type": "stream",
     "text": [
      "###### Sorting Using InsertionSort ##########\n",
      "Length of array:  10\n",
      "Before Sort, array is   [7, 9, 6, 6, 9, 4, 6, 1, 10, 7]\n"
     ]
    },
    {
     "ename": "IndexError",
     "evalue": "list assignment index out of range",
     "output_type": "error",
     "traceback": [
      "\u001B[0;31m---------------------------------------------------------------------------\u001B[0m",
      "\u001B[0;31mIndexError\u001B[0m                                Traceback (most recent call last)",
      "Input \u001B[0;32mIn [36]\u001B[0m, in \u001B[0;36m<cell line: 22>\u001B[0;34m()\u001B[0m\n\u001B[1;32m     20\u001B[0m \u001B[38;5;66;03m# run insertion sort\u001B[39;00m\n\u001B[1;32m     21\u001B[0m insertion_sort \u001B[38;5;241m=\u001B[39m InsertionSort(\u001B[38;5;241m10\u001B[39m)\n\u001B[0;32m---> 22\u001B[0m \u001B[43minsertion_sort\u001B[49m\u001B[38;5;241;43m.\u001B[39;49m\u001B[43mrun\u001B[49m\u001B[43m(\u001B[49m\u001B[43m)\u001B[49m\n",
      "Input \u001B[0;32mIn [33]\u001B[0m, in \u001B[0;36mBaseSort.run\u001B[0;34m(self)\u001B[0m\n\u001B[1;32m     27\u001B[0m \u001B[38;5;28mprint\u001B[39m(\u001B[38;5;124m\"\u001B[39m\u001B[38;5;124mLength of array: \u001B[39m\u001B[38;5;124m\"\u001B[39m, \u001B[38;5;28mself\u001B[39m\u001B[38;5;241m.\u001B[39mn)\n\u001B[1;32m     28\u001B[0m \u001B[38;5;28mprint\u001B[39m(\u001B[38;5;124m\"\u001B[39m\u001B[38;5;124mBefore Sort, array is  \u001B[39m\u001B[38;5;124m\"\u001B[39m, \u001B[38;5;28mself\u001B[39m\u001B[38;5;241m.\u001B[39marr)\n\u001B[0;32m---> 29\u001B[0m \u001B[38;5;28;43mself\u001B[39;49m\u001B[38;5;241;43m.\u001B[39;49m\u001B[43msort\u001B[49m\u001B[43m(\u001B[49m\u001B[43m)\u001B[49m\n\u001B[1;32m     30\u001B[0m \u001B[38;5;28mprint\u001B[39m(\u001B[38;5;124m\"\u001B[39m\u001B[38;5;124mAfter Sort  , array is \u001B[39m\u001B[38;5;124m\"\u001B[39m, \u001B[38;5;28mself\u001B[39m\u001B[38;5;241m.\u001B[39marr)\n",
      "Input \u001B[0;32mIn [36]\u001B[0m, in \u001B[0;36mInsertionSort.sort\u001B[0;34m(self)\u001B[0m\n\u001B[1;32m     15\u001B[0m     \u001B[38;5;28mself\u001B[39m\u001B[38;5;241m.\u001B[39marr[j\u001B[38;5;241m+\u001B[39m\u001B[38;5;241m1\u001B[39m] \u001B[38;5;241m=\u001B[39m elem\n\u001B[1;32m     16\u001B[0m \u001B[38;5;28;01melse\u001B[39;00m:\n\u001B[1;32m     17\u001B[0m     \u001B[38;5;66;03m# move elem one positon ahead\u001B[39;00m\n\u001B[0;32m---> 18\u001B[0m     \u001B[38;5;28mself\u001B[39m\u001B[38;5;241m.\u001B[39marr[j], \u001B[38;5;28mself\u001B[39m\u001B[38;5;241m.\u001B[39marr[j\u001B[38;5;241m+\u001B[39m\u001B[38;5;241m1\u001B[39m]\u001B[38;5;241m=\u001B[39melem,\u001B[38;5;28mself\u001B[39m\u001B[38;5;241m.\u001B[39marr[j]\n",
      "\u001B[0;31mIndexError\u001B[0m: list assignment index out of range"
     ]
    }
   ],
   "source": [
    "# Insertion Sort Algorithm\n",
    "class InsertionSort(BaseSort):\n",
    "\n",
    "    def sort(self):\n",
    "        \"\"\"\n",
    "        Sorts by repeating picking up the values from the unsorted part and placing at the correct position in th sorted part.\n",
    "        \"\"\"\n",
    "        for i in range(1, self.n):\n",
    "            # every element in unsorted part\n",
    "            elem = self.arr[i]\n",
    "            for j in range(i, 0, -1):\n",
    "                # every element in sorted part\n",
    "                if elem > self.arr[j]:\n",
    "                    # slot found for i, next after j\n",
    "                    self.arr[j+1] = elem\n",
    "                else:\n",
    "                    # move elem one positon ahead\n",
    "                    self.arr[j], self.arr[j+1]=elem,self.arr[j]\n",
    "\n",
    "# run insertion sort\n",
    "insertion_sort = InsertionSort(10)\n",
    "insertion_sort.run()"
   ],
   "metadata": {
    "collapsed": false,
    "pycharm": {
     "name": "#%%\n"
    }
   }
  }
 ],
 "metadata": {
  "kernelspec": {
   "display_name": "Python 3",
   "language": "python",
   "name": "python3"
  },
  "language_info": {
   "codemirror_mode": {
    "name": "ipython",
    "version": 2
   },
   "file_extension": ".py",
   "mimetype": "text/x-python",
   "name": "python",
   "nbconvert_exporter": "python",
   "pygments_lexer": "ipython2",
   "version": "2.7.6"
  }
 },
 "nbformat": 4,
 "nbformat_minor": 0
}