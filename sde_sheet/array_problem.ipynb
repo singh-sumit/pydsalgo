{
 "cells": [
  {
   "cell_type": "markdown",
   "source": [
    "1. Check if two arrays are equal or not"
   ],
   "metadata": {
    "collapsed": false,
    "pycharm": {
     "name": "#%% md\n"
    }
   }
  },
  {
   "cell_type": "code",
   "execution_count": null,
   "outputs": [],
   "source": [
    "#User function Template for python3\n",
    "\n",
    "class Solution:\n",
    "    #Function to check if two arrays are equal or not.\n",
    "    def using_sorting(self,A, B, N):\n",
    "        if len(A) != len(B):\n",
    "            return False\n",
    "        a=sorted(A)\n",
    "        b=sorted(B)\n",
    "\n",
    "        # linear search\n",
    "        for i,j in zip(a,b):\n",
    "            if i!=j:\n",
    "                return False\n",
    "        else:\n",
    "            return True\n",
    "\n",
    "    def using_hashmap(self, A,B, N):\n",
    "        if len(A) != len(B):\n",
    "            return False\n",
    "\n",
    "        count_dict = {}\n",
    "        # iterate over A, and store the count of each element in a dictionary, with even increment by 2, odd by 3, using dictionary comprehension\n",
    "        count_dict={elem: (1 if elem not in count_dict else count_dict[elem]+1)for elem in A}\n",
    "        print(count_dict)\n",
    "\n",
    "    def check(self,A,B,N):\n",
    "        self.using_hashmap(A,B,N)\n",
    "        return self.using_sorting(A, B, N)\n",
    "\n",
    "\n",
    "#{\n",
    " # Driver Code Starts\n",
    "#Initial Template for Python 3\n",
    "\n",
    "if __name__=='__main__':\n",
    "    t=int(input())\n",
    "    for tc in range(t):\n",
    "\n",
    "        N=int(input())\n",
    "\n",
    "        A = [int(x) for x in input().replace('  ',' ').strip().split(' ')]\n",
    "        B = [int(x) for x in input().replace('  ',' ').strip().split(' ')]\n",
    "        ob=Solution()\n",
    "        if ob.check(A,B,N):\n",
    "            print(1)\n",
    "        else:\n",
    "            print(0)\n",
    "\n",
    "\n",
    "\n",
    "# } Driver Code Ends"
   ],
   "metadata": {
    "collapsed": false,
    "pycharm": {
     "name": "#%%\n"
    }
   }
  }
 ],
 "metadata": {
  "kernelspec": {
   "display_name": "Python 3",
   "language": "python",
   "name": "python3"
  },
  "language_info": {
   "codemirror_mode": {
    "name": "ipython",
    "version": 2
   },
   "file_extension": ".py",
   "mimetype": "text/x-python",
   "name": "python",
   "nbconvert_exporter": "python",
   "pygments_lexer": "ipython2",
   "version": "2.7.6"
  }
 },
 "nbformat": 4,
 "nbformat_minor": 0
}